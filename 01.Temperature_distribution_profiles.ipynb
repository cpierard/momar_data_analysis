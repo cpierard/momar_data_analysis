{
 "cells": [
  {
   "cell_type": "code",
   "execution_count": 3,
   "metadata": {},
   "outputs": [],
   "source": [
    "#import seaborn as sns\n",
    "from netCDF4 import Dataset\n",
    "import numpy as np\n",
    "import pandas as pd\n",
    "from scipy import stats\n",
    "import scipy.signal as sg\n",
    "import itertools\n",
    "\n",
    "import matplotlib as mpl\n",
    "import matplotlib.pyplot as plt\n",
    "import matplotlib.gridspec as grid_spec\n",
    "\n",
    "### something to remove a warninig ### arghh\n",
    "from pandas.plotting import register_matplotlib_converters\n",
    "register_matplotlib_converters()\n",
    "\n",
    "%matplotlib inline"
   ]
  },
  {
   "cell_type": "code",
   "execution_count": 4,
   "metadata": {},
   "outputs": [
    {
     "name": "stderr",
     "output_type": "stream",
     "text": [
      "/Users/claudiopierard/miniconda3/lib/python3.7/site-packages/ipykernel_launcher.py:7: RuntimeWarning: invalid value encountered in less\n",
      "  import sys\n",
      "/Users/claudiopierard/miniconda3/lib/python3.7/site-packages/ipykernel_launcher.py:7: RuntimeWarning: invalid value encountered in greater\n",
      "  import sys\n"
     ]
    }
   ],
   "source": [
    "year = 2015\n",
    "\n",
    "with Dataset(f'../netcdf/{year}/rbr.nc', 'r') as nc:\n",
    "    \n",
    "    n_depths = len(nc['DEPTH'][:])\n",
    "    depth_rbr = np.array(nc['DEPTH'][:])\n",
    "    temp = np.array(nc['TEMP'][:])\n",
    "    time = np.array(nc['TIME'][:])\n",
    "    \n",
    "time = pd.to_datetime(time, unit='D', origin='1950-01-01 00:00')\n",
    "df = pd.DataFrame(temp, columns=depth_rbr)\n",
    "#temp_year = df.to_dict()\n",
    "means_rbr = df.mean().values "
   ]
  },
  {
   "cell_type": "code",
   "execution_count": 5,
   "metadata": {},
   "outputs": [],
   "source": [
    "df.index = time"
   ]
  },
  {
   "cell_type": "code",
   "execution_count": 6,
   "metadata": {},
   "outputs": [
    {
     "data": {
      "text/html": [
       "<div>\n",
       "<style scoped>\n",
       "    .dataframe tbody tr th:only-of-type {\n",
       "        vertical-align: middle;\n",
       "    }\n",
       "\n",
       "    .dataframe tbody tr th {\n",
       "        vertical-align: top;\n",
       "    }\n",
       "\n",
       "    .dataframe thead th {\n",
       "        text-align: right;\n",
       "    }\n",
       "</style>\n",
       "<table border=\"1\" class=\"dataframe\">\n",
       "  <thead>\n",
       "    <tr style=\"text-align: right;\">\n",
       "      <th></th>\n",
       "      <th>800.0</th>\n",
       "      <th>1100.0</th>\n",
       "      <th>1200.0</th>\n",
       "      <th>1300.0</th>\n",
       "      <th>1400.0</th>\n",
       "      <th>1490.0</th>\n",
       "      <th>1540.0</th>\n",
       "      <th>1580.0</th>\n",
       "      <th>1620.0</th>\n",
       "      <th>1660.0</th>\n",
       "    </tr>\n",
       "  </thead>\n",
       "  <tbody>\n",
       "    <tr>\n",
       "      <td>2014-07-29 19:09:59.999990400</td>\n",
       "      <td>9.6494</td>\n",
       "      <td>7.2754</td>\n",
       "      <td>6.4862</td>\n",
       "      <td>6.0981</td>\n",
       "      <td>5.8325</td>\n",
       "      <td>5.4969</td>\n",
       "      <td>5.2323</td>\n",
       "      <td>5.1914</td>\n",
       "      <td>4.9633</td>\n",
       "      <td>4.8976</td>\n",
       "    </tr>\n",
       "    <tr>\n",
       "      <td>2014-07-29 19:10:14.999980799</td>\n",
       "      <td>9.6068</td>\n",
       "      <td>7.0359</td>\n",
       "      <td>6.4043</td>\n",
       "      <td>6.0284</td>\n",
       "      <td>5.7819</td>\n",
       "      <td>5.4451</td>\n",
       "      <td>5.1548</td>\n",
       "      <td>5.1159</td>\n",
       "      <td>4.9251</td>\n",
       "      <td>4.8761</td>\n",
       "    </tr>\n",
       "    <tr>\n",
       "      <td>2014-07-29 19:10:29.999971200</td>\n",
       "      <td>9.6042</td>\n",
       "      <td>6.9030</td>\n",
       "      <td>6.3854</td>\n",
       "      <td>6.0147</td>\n",
       "      <td>5.7542</td>\n",
       "      <td>5.4278</td>\n",
       "      <td>5.1217</td>\n",
       "      <td>5.0700</td>\n",
       "      <td>4.9076</td>\n",
       "      <td>4.8649</td>\n",
       "    </tr>\n",
       "    <tr>\n",
       "      <td>2014-07-29 19:10:44.999961600</td>\n",
       "      <td>9.6017</td>\n",
       "      <td>6.9065</td>\n",
       "      <td>6.3770</td>\n",
       "      <td>6.0082</td>\n",
       "      <td>5.7376</td>\n",
       "      <td>5.4191</td>\n",
       "      <td>5.1029</td>\n",
       "      <td>5.0411</td>\n",
       "      <td>4.8983</td>\n",
       "      <td>4.8595</td>\n",
       "    </tr>\n",
       "    <tr>\n",
       "      <td>2014-07-29 19:10:59.999952000</td>\n",
       "      <td>9.6009</td>\n",
       "      <td>6.9101</td>\n",
       "      <td>6.3706</td>\n",
       "      <td>6.0026</td>\n",
       "      <td>5.7251</td>\n",
       "      <td>5.4137</td>\n",
       "      <td>5.0905</td>\n",
       "      <td>5.0160</td>\n",
       "      <td>4.8920</td>\n",
       "      <td>4.8561</td>\n",
       "    </tr>\n",
       "  </tbody>\n",
       "</table>\n",
       "</div>"
      ],
      "text/plain": [
       "                               800.0   1100.0  1200.0  1300.0  1400.0  1490.0  \\\n",
       "2014-07-29 19:09:59.999990400  9.6494  7.2754  6.4862  6.0981  5.8325  5.4969   \n",
       "2014-07-29 19:10:14.999980799  9.6068  7.0359  6.4043  6.0284  5.7819  5.4451   \n",
       "2014-07-29 19:10:29.999971200  9.6042  6.9030  6.3854  6.0147  5.7542  5.4278   \n",
       "2014-07-29 19:10:44.999961600  9.6017  6.9065  6.3770  6.0082  5.7376  5.4191   \n",
       "2014-07-29 19:10:59.999952000  9.6009  6.9101  6.3706  6.0026  5.7251  5.4137   \n",
       "\n",
       "                               1540.0  1580.0  1620.0  1660.0  \n",
       "2014-07-29 19:09:59.999990400  5.2323  5.1914  4.9633  4.8976  \n",
       "2014-07-29 19:10:14.999980799  5.1548  5.1159  4.9251  4.8761  \n",
       "2014-07-29 19:10:29.999971200  5.1217  5.0700  4.9076  4.8649  \n",
       "2014-07-29 19:10:44.999961600  5.1029  5.0411  4.8983  4.8595  \n",
       "2014-07-29 19:10:59.999952000  5.0905  5.0160  4.8920  4.8561  "
      ]
     },
     "execution_count": 6,
     "metadata": {},
     "output_type": "execute_result"
    }
   ],
   "source": [
    "df.head()"
   ]
  },
  {
   "cell_type": "markdown",
   "metadata": {},
   "source": [
    "# Spectral analysis"
   ]
  },
  {
   "cell_type": "code",
   "execution_count": 51,
   "metadata": {},
   "outputs": [
    {
     "data": {
      "text/plain": [
       "numpy.timedelta64(14999990399,'ns')"
      ]
     },
     "execution_count": 51,
     "metadata": {},
     "output_type": "execute_result"
    }
   ],
   "source": [
    "np.diff(df.index[:2].values)[0]"
   ]
  },
  {
   "cell_type": "code",
   "execution_count": 52,
   "metadata": {},
   "outputs": [
    {
     "data": {
      "text/html": [
       "<div>\n",
       "<style scoped>\n",
       "    .dataframe tbody tr th:only-of-type {\n",
       "        vertical-align: middle;\n",
       "    }\n",
       "\n",
       "    .dataframe tbody tr th {\n",
       "        vertical-align: top;\n",
       "    }\n",
       "\n",
       "    .dataframe thead th {\n",
       "        text-align: right;\n",
       "    }\n",
       "</style>\n",
       "<table border=\"1\" class=\"dataframe\">\n",
       "  <thead>\n",
       "    <tr style=\"text-align: right;\">\n",
       "      <th></th>\n",
       "      <th>800.0</th>\n",
       "      <th>1100.0</th>\n",
       "      <th>1200.0</th>\n",
       "      <th>1300.0</th>\n",
       "      <th>1400.0</th>\n",
       "      <th>1490.0</th>\n",
       "      <th>1540.0</th>\n",
       "      <th>1580.0</th>\n",
       "      <th>1620.0</th>\n",
       "      <th>1660.0</th>\n",
       "    </tr>\n",
       "  </thead>\n",
       "  <tbody>\n",
       "    <tr>\n",
       "      <td>2014-07-29 19:09:59.999990400</td>\n",
       "      <td>9.6494</td>\n",
       "      <td>7.2754</td>\n",
       "      <td>6.4862</td>\n",
       "      <td>6.0981</td>\n",
       "      <td>5.8325</td>\n",
       "      <td>5.4969</td>\n",
       "      <td>5.2323</td>\n",
       "      <td>5.1914</td>\n",
       "      <td>4.9633</td>\n",
       "      <td>4.8976</td>\n",
       "    </tr>\n",
       "    <tr>\n",
       "      <td>2014-07-29 19:10:14.999980799</td>\n",
       "      <td>9.6068</td>\n",
       "      <td>7.0359</td>\n",
       "      <td>6.4043</td>\n",
       "      <td>6.0284</td>\n",
       "      <td>5.7819</td>\n",
       "      <td>5.4451</td>\n",
       "      <td>5.1548</td>\n",
       "      <td>5.1159</td>\n",
       "      <td>4.9251</td>\n",
       "      <td>4.8761</td>\n",
       "    </tr>\n",
       "    <tr>\n",
       "      <td>2014-07-29 19:10:29.999971200</td>\n",
       "      <td>9.6042</td>\n",
       "      <td>6.9030</td>\n",
       "      <td>6.3854</td>\n",
       "      <td>6.0147</td>\n",
       "      <td>5.7542</td>\n",
       "      <td>5.4278</td>\n",
       "      <td>5.1217</td>\n",
       "      <td>5.0700</td>\n",
       "      <td>4.9076</td>\n",
       "      <td>4.8649</td>\n",
       "    </tr>\n",
       "    <tr>\n",
       "      <td>2014-07-29 19:10:44.999961600</td>\n",
       "      <td>9.6017</td>\n",
       "      <td>6.9065</td>\n",
       "      <td>6.3770</td>\n",
       "      <td>6.0082</td>\n",
       "      <td>5.7376</td>\n",
       "      <td>5.4191</td>\n",
       "      <td>5.1029</td>\n",
       "      <td>5.0411</td>\n",
       "      <td>4.8983</td>\n",
       "      <td>4.8595</td>\n",
       "    </tr>\n",
       "    <tr>\n",
       "      <td>2014-07-29 19:10:59.999952000</td>\n",
       "      <td>9.6009</td>\n",
       "      <td>6.9101</td>\n",
       "      <td>6.3706</td>\n",
       "      <td>6.0026</td>\n",
       "      <td>5.7251</td>\n",
       "      <td>5.4137</td>\n",
       "      <td>5.0905</td>\n",
       "      <td>5.0160</td>\n",
       "      <td>4.8920</td>\n",
       "      <td>4.8561</td>\n",
       "    </tr>\n",
       "  </tbody>\n",
       "</table>\n",
       "</div>"
      ],
      "text/plain": [
       "                               800.0   1100.0  1200.0  1300.0  1400.0  1490.0  \\\n",
       "2014-07-29 19:09:59.999990400  9.6494  7.2754  6.4862  6.0981  5.8325  5.4969   \n",
       "2014-07-29 19:10:14.999980799  9.6068  7.0359  6.4043  6.0284  5.7819  5.4451   \n",
       "2014-07-29 19:10:29.999971200  9.6042  6.9030  6.3854  6.0147  5.7542  5.4278   \n",
       "2014-07-29 19:10:44.999961600  9.6017  6.9065  6.3770  6.0082  5.7376  5.4191   \n",
       "2014-07-29 19:10:59.999952000  9.6009  6.9101  6.3706  6.0026  5.7251  5.4137   \n",
       "\n",
       "                               1540.0  1580.0  1620.0  1660.0  \n",
       "2014-07-29 19:09:59.999990400  5.2323  5.1914  4.9633  4.8976  \n",
       "2014-07-29 19:10:14.999980799  5.1548  5.1159  4.9251  4.8761  \n",
       "2014-07-29 19:10:29.999971200  5.1217  5.0700  4.9076  4.8649  \n",
       "2014-07-29 19:10:44.999961600  5.1029  5.0411  4.8983  4.8595  \n",
       "2014-07-29 19:10:59.999952000  5.0905  5.0160  4.8920  4.8561  "
      ]
     },
     "execution_count": 52,
     "metadata": {},
     "output_type": "execute_result"
    }
   ],
   "source": [
    "df.head()"
   ]
  },
  {
   "cell_type": "code",
   "execution_count": 53,
   "metadata": {
    "scrolled": false
   },
   "outputs": [
    {
     "name": "stdout",
     "output_type": "stream",
     "text": [
      "coriolis = 1.2115139615498907\n",
      "M2 = 1.932367149758454\n"
     ]
    },
    {
     "data": {
      "text/plain": [
       "<matplotlib.legend.Legend at 0x7fecf2004320>"
      ]
     },
     "execution_count": 53,
     "metadata": {},
     "output_type": "execute_result"
    },
    {
     "data": {
      "image/png": "[encoded data removed]",
      "text/plain": [
       "<Figure size 576x360 with 1 Axes>"
      ]
     },
     "metadata": {
      "needs_background": "light"
     },
     "output_type": "display_data"
    }
   ],
   "source": [
    "plt.figure(figsize=(8,5))\n",
    "\n",
    "for depth_k in df.keys():\n",
    "    temp = df[depth_k].dropna()\n",
    "    dt = 15/(3600*24) # days! \n",
    "    window = 'hanning'\n",
    "    Lwins = [100,10,1]\n",
    "    Lwin = Lwins[1]\n",
    "    freq, psd = sg.welch(temp,fs=1./dt,window=window,detrend='linear',nperseg=int(Lwin/dt))\n",
    "    plt.loglog(freq,psd, label=depth_k)\n",
    "\n",
    "plt.ylim([psd[1:].min(),5])\n",
    "\n",
    "# add typical frequencies\n",
    "week = 1./7 # yeah, weekly freq.\n",
    "plt.axvline(week,color='red',alpha=1,ls='--')\n",
    "\n",
    "lat = 37+.17/.6\n",
    "Ω = 7.2921e-5\n",
    "f = 2*np.sin(lat*np.pi/180) # coriolis frequency # where is the angular velocity?\n",
    "print(f'coriolis = {f}')\n",
    "\n",
    "plt.axvline(f,color='green',alpha=1,ls='--')\n",
    "M2 = 24/12.42 # M2\n",
    "print(f'M2 = {M2}')\n",
    "plt.axvline(M2,color='blue',alpha=1,ls='--')\n",
    "\n",
    "# Nmin = 3.56e-3/2/np.pi*3600*24 # Brunt-Vaisala? I need to compute from my data.\n",
    "# plt.axvline(Nmin,color='red',alpha=1,ls='--')\n",
    "\n",
    "# Nmax = 3.63e-3/2/np.pi*3600*24 #B-V freq.? \n",
    "# plt.axvline(Nmax,color='red',alpha=1,ls='--')\n",
    "\n",
    "plt.grid(True)\n",
    "plt.xlim([1e-2,freq.max()])\n",
    "plt.xlabel('freq. (cycle/day)')\n",
    "plt.ylabel(r'PSD($T$)')\n",
    "plt.legend()"
   ]
  },
  {
   "cell_type": "markdown",
   "metadata": {},
   "source": [
    "# Ridge plot "
   ]
  },
  {
   "cell_type": "markdown",
   "metadata": {},
   "source": [
    "# Guillaume's idea\n",
    "\n",
    "switched the histogram curve for a Kernel density estimation curve because it looks nicer."
   ]
  },
  {
   "cell_type": "code",
   "execution_count": 118,
   "metadata": {},
   "outputs": [
    {
     "data": {
      "text/plain": [
       "<matplotlib.legend.Legend at 0x1b34aea58>"
      ]
     },
     "execution_count": 118,
     "metadata": {},
     "output_type": "execute_result"
    },
    {
     "data": {
      "image/png": "[encoded data removed]",
      "text/plain": [
       "<Figure size 432x576 with 1 Axes>"
      ]
     },
     "metadata": {
      "needs_background": "light"
     },
     "output_type": "display_data"
    }
   ],
   "source": [
    "levels = df.keys()\n",
    "means = df.mean().values \n",
    "\n",
    "fig, ax = plt.subplots(1, figsize=(6,8))\n",
    "ax.plot(means, -levels, 'ko--', label='Mean')\n",
    "\n",
    "colors = plt.rcParams[\"axes.prop_cycle\"]()\n",
    "\n",
    "for i, key in enumerate(levels):\n",
    "    c = next(colors)['color']\n",
    "    val_min = df[key].min()\n",
    "    val_max = df[key].max()\n",
    "    x_values = np.linspace(val_min, val_max, 64)\n",
    "    base_line = np.zeros_like(x_values) - levels[i]\n",
    "\n",
    "    kernel = stats.gaussian_kde(df[key].dropna())\n",
    "    kde = kernel(x_values)*30 - levels[i]\n",
    "\n",
    "    ax.plot(x_values, kde, color=c, lw=1)\n",
    "    ax.fill_between(x_values, base_line, kde, alpha=1, color=c)\n",
    "\n",
    "ax.set_xlabel(r'Temperature [$\\degree C$]')\n",
    "ax.set_ylabel('Depth [m]')\n",
    "ax.set_title(f'{year-1} - {year}')\n",
    "ax.grid()\n",
    "ax.legend(fontsize=12, shadow=True)"
   ]
  },
  {
   "cell_type": "markdown",
   "metadata": {},
   "source": [
    "## comparing years"
   ]
  },
  {
   "cell_type": "code",
   "execution_count": 2,
   "metadata": {},
   "outputs": [],
   "source": [
    "depths_year = {}\n",
    "\n",
    "for y in range(2011,2020):\n",
    "    with Dataset(f'../../netcdf/{y}/rbr.nc', 'r') as nc:\n",
    "        depths_global[y] = np.array(nc['DEPTH'][:])\n"
   ]
  },
  {
   "cell_type": "code",
   "execution_count": 3,
   "metadata": {},
   "outputs": [
    {
     "data": {
      "text/plain": [
       "{2011: array([1200., 1300., 1400.], dtype=float32),\n",
       " 2012: array([1100., 1200., 1300., 1400., 1490., 1540., 1580., 1620., 1660.],\n",
       "       dtype=float32),\n",
       " 2013: array([1100., 1200., 1300., 1400., 1500., 1540., 1580., 1620., 1660.],\n",
       "       dtype=float32),\n",
       " 2014: array([ 800., 1100., 1200., 1300., 1400., 1540., 1580., 1620., 1660.],\n",
       "       dtype=float32),\n",
       " 2015: array([ 800., 1100., 1200., 1300., 1400., 1490., 1540., 1580., 1620.,\n",
       "        1660.], dtype=float32),\n",
       " 2016: array([ 800., 1200., 1300., 1400., 1540., 1580., 1620., 1660.],\n",
       "       dtype=float32),\n",
       " 2017: array([ 780.,  943., 1190., 1289., 1382., 1458., 1507., 1557., 1606.,\n",
       "        1665.], dtype=float32),\n",
       " 2018: array([ 800.,  900., 1200., 1300., 1350., 1490., 1540., 1580., 1620.,\n",
       "        1660.], dtype=float32),\n",
       " 2019: array([ 800.,  900., 1200., 1300., 1350., 1490., 1540., 1580., 1620.,\n",
       "        1660.], dtype=float32)}"
      ]
     },
     "execution_count": 3,
     "metadata": {},
     "output_type": "execute_result"
    }
   ],
   "source": [
    "depths_global"
   ]
  },
  {
   "cell_type": "code",
   "execution_count": null,
   "metadata": {},
   "outputs": [],
   "source": [
    "levels = df.keys()\n",
    "means = df.mean().values \n",
    "\n",
    "fig, ax = plt.subplots(1, figsize=(6,8))\n",
    "ax.plot(means, -levels, 'ko--', label='Mean')\n",
    "\n",
    "colors = plt.rcParams[\"axes.prop_cycle\"]()\n",
    "\n",
    "for i, key in enumerate(levels):\n",
    "    c = next(colors)['color']\n",
    "    val_min = df[key].min()\n",
    "    val_max = df[key].max()\n",
    "    x_values = np.linspace(val_min, val_max, 64)\n",
    "    base_line = np.zeros_like(x_values) - levels[i]\n",
    "\n",
    "    kernel = stats.gaussian_kde(df[key].dropna())\n",
    "    kde = kernel(x_values)*30 - levels[i]\n",
    "\n",
    "    ax.plot(x_values, kde, color=c, lw=1)\n",
    "    ax.fill_between(x_values, base_line, kde, alpha=0.7, color=c)\n",
    "\n",
    "ax.set_xlabel(r'Temperature [$\\degree C$]')\n",
    "ax.set_ylabel('Depth [m]')\n",
    "ax.set_title(f'{year-1} - {year}')\n",
    "ax.grid()\n",
    "ax.legend(fontsize=12, shadow=True)"
   ]
  },
  {
   "cell_type": "code",
   "execution_count": 4,
   "metadata": {},
   "outputs": [
    {
     "data": {
      "image/png": "[encoded data removed]",
      "text/plain": [
       "<Figure size 432x288 with 1 Axes>"
      ]
     },
     "metadata": {
      "needs_background": "light"
     },
     "output_type": "display_data"
    }
   ],
   "source": [
    "for y in range(2011,2020):\n",
    "    x = np.zeros(len(depths_global[y])) + y\n",
    "    plt.scatter(x, depths_global[y])"
   ]
  },
  {
   "cell_type": "code",
   "execution_count": null,
   "metadata": {},
   "outputs": [],
   "source": []
  },
  {
   "cell_type": "code",
   "execution_count": 21,
   "metadata": {},
   "outputs": [
    {
     "data": {
      "text/plain": [
       "6.4301305"
      ]
     },
     "execution_count": 21,
     "metadata": {},
     "output_type": "execute_result"
    }
   ],
   "source": [
    "temp_1200[2011].mean()"
   ]
  },
  {
   "cell_type": "code",
   "execution_count": 27,
   "metadata": {},
   "outputs": [
    {
     "name": "stdout",
     "output_type": "stream",
     "text": [
      "OrderedDict([('TIME', <class 'netCDF4._netCDF4.Variable'>\n",
      "float64 TIME(time)\n",
      "    long_name: Julian day (UTC) of the station relative to 1950-01-01 00:00:00 UTC\n",
      "    standard_name: time\n",
      "    reference_date: 1950-01-01 00:00:00 UTC\n",
      "    units: days\n",
      "    conventions: Relative julian days with decimal part (as parts of day)\n",
      "    axis: T\n",
      "unlimited dimensions: \n",
      "current shape = (1745017,)\n",
      "filling on, default _FillValue of 9.969209968386869e+36 used\n",
      "), ('TEMP', <class 'netCDF4._netCDF4.Variable'>\n",
      "float32 TEMP(time, levels)\n",
      "    long_name: Sea temperature in-situ ITS-90 scale\n",
      "    standard_name: sea_water_temperature\n",
      "    units: degC\n",
      "    valid_min: -2.5\n",
      "    valid_max: 40.0\n",
      "    resolution: 0.001\n",
      "unlimited dimensions: \n",
      "current shape = (1745017, 10)\n",
      "filling on, default _FillValue of 9.969209968386869e+36 used\n",
      "), ('DEPTH', <class 'netCDF4._netCDF4.Variable'>\n",
      "float32 DEPTH(levels)\n",
      "    description: theoretical depth of each instrument on the line\n",
      "    long_name: Depth of each measurement\n",
      "    standard_name: depth\n",
      "    units: m\n",
      "    positive: down \n",
      "    valid_min: 0.0\n",
      "    valid_max: 12000.0\n",
      "    comment: These are theoretical values. Use PRES to derive time-varying depths of instruments, as the mooring may tilt in ambient currents\n",
      "    axis: Z\n",
      "unlimited dimensions: \n",
      "current shape = (10,)\n",
      "filling on, default _FillValue of 9.969209968386869e+36 used\n",
      ")])\n"
     ]
    }
   ],
   "source": [
    "with Dataset(f'../netcdf/{2017}/rbr.nc', 'r') as nc:\n",
    "    print(nc.variables)"
   ]
  },
  {
   "cell_type": "code",
   "execution_count": 110,
   "metadata": {},
   "outputs": [
    {
     "name": "stderr",
     "output_type": "stream",
     "text": [
      "/Users/claudiopierard/miniconda3/lib/python3.7/site-packages/ipykernel_launcher.py:19: RuntimeWarning: invalid value encountered in less\n",
      "/Users/claudiopierard/miniconda3/lib/python3.7/site-packages/ipykernel_launcher.py:19: RuntimeWarning: invalid value encountered in greater\n"
     ]
    },
    {
     "name": "stdout",
     "output_type": "stream",
     "text": [
      "[2]\n"
     ]
    }
   ],
   "source": [
    "temp_1200 = {}\n",
    "i_level = 1200\n",
    "for y in range(2011,2020):\n",
    "    with Dataset(f'../netcdf/{y}/rbr.nc', 'r') as nc:\n",
    "        depth_y = np.array(nc['DEPTH'][:])\n",
    "        \n",
    "        #print(y, depth_y)\n",
    "        \n",
    "        if y==2017:\n",
    "            idx = np.where(depth_y==1190)[0]\n",
    "            print(idx)\n",
    "            temp_1200[y] = np.array(nc['TEMP'][:,2])\n",
    "            continue\n",
    "        \n",
    "        idx = np.where(depth_y==i_level)[0]\n",
    "                \n",
    "        #print(y, idx)\n",
    "        for i in idx:\n",
    "            temp_1200[y] = np.array(nc['TEMP'][:,i])\n",
    "\n",
    "            \n",
    "with Dataset(f'../netcdf/{2017}/rbr.nc', 'r') as nc:\n",
    "    temp_1200[2017] = np.array(nc['TEMP'][:,2])"
   ]
  },
  {
   "cell_type": "code",
   "execution_count": 111,
   "metadata": {},
   "outputs": [
    {
     "data": {
      "text/plain": [
       "{2011: array([6.4187, 6.4166, 6.4154, ..., 6.3703, 6.4398, 6.4898], dtype=float32),\n",
       " 2012: array([5.8728, 5.8736, 5.8744, ..., 6.7024, 6.7026, 6.7027], dtype=float32),\n",
       " 2013: array([6.6832, 6.6775, 6.6757, ..., 6.3156, 6.316 , 6.3171], dtype=float32),\n",
       " 2014: array([6.8705, 6.8608, 6.8561, ...,    nan,    nan,    nan], dtype=float32),\n",
       " 2015: array([6.4862, 6.4043, 6.3854, ..., 6.736 , 6.7292, 6.7255], dtype=float32),\n",
       " 2016: array([6.9144, 6.9141, 6.9137, ...,    nan,    nan,    nan], dtype=float32),\n",
       " 2017: array([6.7543, 6.6583, 6.5579, ..., 6.2661, 6.2658, 6.2656], dtype=float32),\n",
       " 2018: array([7.4956193, 7.4152355, 7.2998476, ..., 8.3701935, 8.6047945,\n",
       "        8.548303 ], dtype=float32),\n",
       " 2019: array([6.8253374, 6.8259063, 6.826112 , ..., 6.881129 , 6.98888  ,\n",
       "        7.07033  ], dtype=float32)}"
      ]
     },
     "execution_count": 111,
     "metadata": {},
     "output_type": "execute_result"
    }
   ],
   "source": [
    "temp_1200"
   ]
  },
  {
   "cell_type": "code",
   "execution_count": 107,
   "metadata": {},
   "outputs": [],
   "source": [
    "def ridge_plot(data, xlabel, bins=128, h_space=-0.5, alpha=1, figsize=(8,8), cmap='tab10'):\n",
    "\n",
    "    nrows = len(data.keys())\n",
    "    labels = list(temp_1200.keys())\n",
    "    \n",
    "    x_colors = np.linspace(0,1, nrows)\n",
    "    colors = cm.get_cmap(cmap)(x_colors)\n",
    "    \n",
    "    fig, axes = plt.subplots(nrows,  sharex=True, figsize=figsize)\n",
    "    \n",
    "    min_glob = 999\n",
    "\n",
    "    for i, key in enumerate(data.keys()):\n",
    "        val_min = data[key][~np.isnan(data[key])].min()\n",
    "        val_max = data[key][~np.isnan(data[key])].max()\n",
    "        \n",
    "        if val_min < min_glob:\n",
    "            min_glob = val_min\n",
    "    \n",
    "        x_values = np.linspace(val_min, val_max, bins)\n",
    "\n",
    "        c = colors[i]\n",
    "        \n",
    "        kernel = stats.gaussian_kde(data[key][~np.isnan(data[key])])\n",
    "        kde = kernel(x_values)\n",
    "\n",
    "        axes[i].plot(x_values, kde, color=\"#f0f0f0\", lw=1)\n",
    "        \n",
    "        axes[i].fill_between(x_values, kde, color=c, alpha=alpha)\n",
    "        rect = axes[i].patch\n",
    "        rect.set_alpha(0)\n",
    "        axes[i].tick_params(left=False, labelleft=False)\n",
    "\n",
    "        if i == len(data.keys())-1:\n",
    "            axes[i].tick_params(bottom=True, left=False, labelleft=False)\n",
    "            spines = [\"top\",\"right\",\"left\"]\n",
    "            axes[i].set_ylim(-0.05,)\n",
    "            axes[i].set_xlim(min_glob,)\n",
    "            axes[i].set_xlabel(xlabel, fontsize=14)\n",
    "\n",
    "        else:\n",
    "            axes[i].tick_params(bottom=False, left=False, labelleft=False)\n",
    "            spines = [\"top\",\"right\",\"left\",\"bottom\"]\n",
    "\n",
    "        for s in spines:\n",
    "            axes[i].spines[s].set_visible(False)\n",
    "\n",
    "        depth_label = str(int(key))\n",
    "        \n",
    "    for j,l in enumerate(data.keys()): \n",
    "        axes[j].text(min_glob, 0.05, labels[j], fontweight=\"bold\", fontsize=13, ha=\"right\")\n",
    "\n",
    "    plt.subplots_adjust(hspace=h_space)\n"
   ]
  },
  {
   "cell_type": "code",
   "execution_count": 112,
   "metadata": {},
   "outputs": [
    {
     "data": {
      "image/png": "[encoded data removed]",
      "text/plain": [
       "<Figure size 576x576 with 9 Axes>"
      ]
     },
     "metadata": {
      "needs_background": "light"
     },
     "output_type": "display_data"
    }
   ],
   "source": [
    "ridge_plot(temp_1200, r'Temperature [$\\degree C$]', cmap=my_cmap)"
   ]
  },
  {
   "cell_type": "code",
   "execution_count": 37,
   "metadata": {},
   "outputs": [],
   "source": [
    "from matplotlib.colors import LinearSegmentedColormap\n",
    "\n",
    "\n",
    "def display_cmap(cmap):\n",
    "    plt.imshow(np.linspace(0, 100, 256)[None, :],  aspect=25,    interpolation='nearest', cmap=cmap) \n",
    "    plt.axis('off')"
   ]
  },
  {
   "cell_type": "code",
   "execution_count": 102,
   "metadata": {},
   "outputs": [
    {
     "data": {
      "image/png": "[encoded data removed]",
      "text/plain": [
       "<Figure size 432x288 with 1 Axes>"
      ]
     },
     "metadata": {
      "needs_background": "light"
     },
     "output_type": "display_data"
    }
   ],
   "source": [
    "basic_cols=['blue', 'red']\n",
    "my_cmap=LinearSegmentedColormap.from_list('mycmap', basic_cols)\n",
    "display_cmap(my_cmap)"
   ]
  },
  {
   "cell_type": "code",
   "execution_count": 58,
   "metadata": {},
   "outputs": [
    {
     "data": {
      "text/plain": [
       "256"
      ]
     },
     "execution_count": 58,
     "metadata": {},
     "output_type": "execute_result"
    }
   ],
   "source": [
    "my_cmap.N"
   ]
  },
  {
   "cell_type": "code",
   "execution_count": 59,
   "metadata": {},
   "outputs": [],
   "source": [
    "from matplotlib import cm"
   ]
  },
  {
   "cell_type": "code",
   "execution_count": 63,
   "metadata": {},
   "outputs": [],
   "source": [
    "x = np.linspace(0.0, 1.0, 10)"
   ]
  },
  {
   "cell_type": "code",
   "execution_count": 65,
   "metadata": {},
   "outputs": [
    {
     "data": {
      "text/plain": [
       "(0.001462, 0.000466, 0.013866, 1.0)"
      ]
     },
     "execution_count": 65,
     "metadata": {},
     "output_type": "execute_result"
    }
   ],
   "source": [
    "cm.get_cmap('inferno')(0)"
   ]
  },
  {
   "cell_type": "code",
   "execution_count": null,
   "metadata": {},
   "outputs": [],
   "source": []
  }
 ],
 "metadata": {
  "kernelspec": {
   "display_name": "Python 3",
   "language": "python",
   "name": "python3"
  },
  "language_info": {
   "codemirror_mode": {
    "name": "ipython",
    "version": 3
   },
   "file_extension": ".py",
   "mimetype": "text/x-python",
   "name": "python",
   "nbconvert_exporter": "python",
   "pygments_lexer": "ipython3",
   "version": "3.7.3"
  }
 },
 "nbformat": 4,
 "nbformat_minor": 2
}
